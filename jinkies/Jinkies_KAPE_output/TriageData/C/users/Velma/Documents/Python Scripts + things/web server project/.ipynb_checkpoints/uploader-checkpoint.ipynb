{
 "cells": [
  {
   "cell_type": "code",
   "execution_count": null,
   "id": "c9727d26",
   "metadata": {},
   "outputs": [],
   "source": [
    "import boto3\n",
    "aws_access_key = '<insert from pw>'\n",
    "aws_secret_key = 'insert from pw'\n",
    "aws_region = 'us-east-1'\n",
    "bucket_name = 'csvs'\n",
    "local_file_path = 'path_to_local_file.csv'\n",
    "s3_object_key = 'destination_filename.csv'\n",
    "s3 = boto3.client('s3', aws_access_key_id=aws_access_key, aws_secret_access_key=aws_secret_key, region_name=aws_region)\n",
    "\n",
    "try:\n",
    "    s3.upload_file(local_file_path, bucket_name, s3_object_key)\n",
    "    print(f'Successfully uploaded {local_file_path} to {bucket_name}/{s3_object_key}')\n",
    "except Exception as e:\n",
    "    print(f'Error uploading {local_file_path} to {bucket_name}/{s3_object_key}: {e}')\n"
   ]
  }
 ],
 "metadata": {
  "kernelspec": {
   "display_name": "Python 3 (ipykernel)",
   "language": "python",
   "name": "python3"
  },
  "language_info": {
   "codemirror_mode": {
    "name": "ipython",
    "version": 3
   },
   "file_extension": ".py",
   "mimetype": "text/x-python",
   "name": "python",
   "nbconvert_exporter": "python",
   "pygments_lexer": "ipython3",
   "version": "3.11.4"
  }
 },
 "nbformat": 4,
 "nbformat_minor": 5
}
